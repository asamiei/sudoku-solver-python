{
  "nbformat": 4,
  "nbformat_minor": 0,
  "metadata": {
    "colab": {
      "name": "20200329 sudoku solver.ipynb",
      "provenance": [],
      "collapsed_sections": []
    },
    "kernelspec": {
      "name": "python3",
      "display_name": "Python 3"
    }
  },
  "cells": [
    {
      "cell_type": "markdown",
      "metadata": {
        "id": "WQzUJ022TX0r",
        "colab_type": "text"
      },
      "source": [
        "**Python Sudoku Solver - Computerphile**\n",
        "https://youtu.be/G_UYXzGuqvM\n",
        "\n",
        "Professor Thorsten Altenkirch on a recursive Sudoku solver. "
      ]
    },
    {
      "cell_type": "code",
      "metadata": {
        "id": "gLbQFtPxSh0s",
        "colab_type": "code",
        "colab": {}
      },
      "source": [
        "# example grid as in the vdo\n",
        "# since we are only allowed to fill numbers 1-9\n",
        "# therefore, we fill in the black cells with 0\n",
        "\n",
        "grid = [[5,3,0,0,7,0,0,0,0],\n",
        "        [6,0,0,1,9,5,0,0,0],\n",
        "        [0,9,8,0,0,0,0,6,0],\n",
        "        [8,0,0,0,6,0,0,0,3],\n",
        "        [4,0,0,8,0,3,0,0,1],\n",
        "        [7,0,0,0,2,0,0,0,6],\n",
        "        [0,6,0,0,0,0,2,8,0],\n",
        "        [0,0,0,4,1,9,0,0,5],\n",
        "        [0,0,0,0,8,0,0,7,9]]\n"
      ],
      "execution_count": 0,
      "outputs": []
    },
    {
      "cell_type": "code",
      "metadata": {
        "id": "xAexTwLZTU6y",
        "colab_type": "code",
        "colab": {}
      },
      "source": [
        "import numpy as np"
      ],
      "execution_count": 0,
      "outputs": []
    },
    {
      "cell_type": "code",
      "metadata": {
        "id": "sfKz5ekDTeyx",
        "colab_type": "code",
        "colab": {
          "base_uri": "https://localhost:8080/",
          "height": 173
        },
        "outputId": "14d4b8ac-0c0a-4d44-a01a-d92630c86a9b"
      },
      "source": [
        "print(np.matrix(grid))"
      ],
      "execution_count": 4,
      "outputs": [
        {
          "output_type": "stream",
          "text": [
            "[[5 3 0 0 7 0 0 0 0]\n",
            " [6 0 0 1 9 5 0 0 0]\n",
            " [0 9 8 0 0 0 0 6 0]\n",
            " [8 0 0 0 6 0 0 0 3]\n",
            " [4 0 0 8 0 3 0 0 1]\n",
            " [7 0 0 0 2 0 0 0 6]\n",
            " [0 6 0 0 0 0 2 8 0]\n",
            " [0 0 0 4 1 9 0 0 5]\n",
            " [0 0 0 0 8 0 0 7 9]]\n"
          ],
          "name": "stdout"
        }
      ]
    },
    {
      "cell_type": "code",
      "metadata": {
        "id": "s23jrMqMTiTe",
        "colab_type": "code",
        "colab": {}
      },
      "source": [
        "def possible(y,x,n):\n",
        "  global grid\n",
        "  # n is the number we want to fill in\n",
        "\n",
        "  # 1st \n",
        "  # check if n already existed in vertical (y) axis\n",
        "  # if exists, return False (not possible)\n",
        "  for i in range(9):\n",
        "    if grid[y][i] == n:\n",
        "      return False\n",
        "\n",
        "  # 2nd\n",
        "  # check horizontal (x) axis\n",
        "  for i in range(9):\n",
        "    if grid[i][x] == n:\n",
        "      return False\n",
        "\n",
        "  # 3rd\n",
        "  # check the 3x3 local grid\n",
        "  x0 = (x//3)*3 \n",
        "  y0 = (y//3)*3\n",
        "  for i in range(3):\n",
        "    for j in range(3):\n",
        "      if grid[y0+i][x0+j] == n:\n",
        "         return False\n",
        "\n",
        "  # return true if pass all 3 checks.\n",
        "  return True"
      ],
      "execution_count": 0,
      "outputs": []
    },
    {
      "cell_type": "code",
      "metadata": {
        "id": "NOQXmR4rUP9u",
        "colab_type": "code",
        "colab": {
          "base_uri": "https://localhost:8080/",
          "height": 35
        },
        "outputId": "d94b4468-d376-4c92-f0aa-36cc85f1299f"
      },
      "source": [
        "# try n = 3\n",
        "possible(4,4,3)"
      ],
      "execution_count": 6,
      "outputs": [
        {
          "output_type": "execute_result",
          "data": {
            "text/plain": [
              "False"
            ]
          },
          "metadata": {
            "tags": []
          },
          "execution_count": 6
        }
      ]
    },
    {
      "cell_type": "code",
      "metadata": {
        "id": "kcZSIWZqUmbQ",
        "colab_type": "code",
        "colab": {
          "base_uri": "https://localhost:8080/",
          "height": 35
        },
        "outputId": "a9f76ae9-8acf-4201-8469-bcdaa6941a36"
      },
      "source": [
        "# try n = 5\n",
        "possible(4,4,5)"
      ],
      "execution_count": 7,
      "outputs": [
        {
          "output_type": "execute_result",
          "data": {
            "text/plain": [
              "True"
            ]
          },
          "metadata": {
            "tags": []
          },
          "execution_count": 7
        }
      ]
    },
    {
      "cell_type": "code",
      "metadata": {
        "id": "w9-Xk7eIUoEc",
        "colab_type": "code",
        "colab": {}
      },
      "source": [
        "def solve():\n",
        "  global grid\n",
        "  for y in range(9):\n",
        "    for x in range(9):\n",
        "      # Find blank positions in the grid (value = 0)\n",
        "      if grid[y][x] == 0:\n",
        "        # Loop n from 1-9\n",
        "        for n in range(1,10):\n",
        "          if possible(y,x,n):\n",
        "            grid[y][x] = n\n",
        "            solve()\n",
        "\n",
        "            # This is where backtracking happens\n",
        "            # Reset the latest position back to 0 and try with new n value\n",
        "            grid[y][x] = 0\n",
        "        return\n",
        "  print(np.matrix(grid))\n",
        "  input('More?')"
      ],
      "execution_count": 0,
      "outputs": []
    },
    {
      "cell_type": "code",
      "metadata": {
        "id": "YDQgrUtjVoh0",
        "colab_type": "code",
        "colab": {
          "base_uri": "https://localhost:8080/",
          "height": 191
        },
        "outputId": "0252d967-5b7c-47c9-e6f8-41d6fc34fe25"
      },
      "source": [
        "solve()"
      ],
      "execution_count": 9,
      "outputs": [
        {
          "output_type": "stream",
          "text": [
            "[[5 3 4 6 7 8 9 1 2]\n",
            " [6 7 2 1 9 5 3 4 8]\n",
            " [1 9 8 3 4 2 5 6 7]\n",
            " [8 5 9 7 6 1 4 2 3]\n",
            " [4 2 6 8 5 3 7 9 1]\n",
            " [7 1 3 9 2 4 8 5 6]\n",
            " [9 6 1 5 3 7 2 8 4]\n",
            " [2 8 7 4 1 9 6 3 5]\n",
            " [3 4 5 2 8 6 1 7 9]]\n",
            "More?\n"
          ],
          "name": "stdout"
        }
      ]
    },
    {
      "cell_type": "code",
      "metadata": {
        "id": "gXm8K5XivlTC",
        "colab_type": "code",
        "colab": {}
      },
      "source": [
        "# modify the grid values\n",
        "grid = [[5,3,0,0,7,0,0,0,0],\n",
        "        [6,0,0,1,9,5,0,0,0],\n",
        "        [0,9,8,0,0,0,0,6,0],\n",
        "        [8,0,0,0,6,0,0,0,3],\n",
        "        [4,0,0,8,0,3,0,0,1],\n",
        "        [7,0,0,0,2,0,0,0,6],\n",
        "        [0,6,0,0,0,0,2,8,0],\n",
        "        [0,0,0,4,1,9,0,0,5],\n",
        "        [0,0,0,0,8,0,0,0,0]]"
      ],
      "execution_count": 0,
      "outputs": []
    },
    {
      "cell_type": "code",
      "metadata": {
        "id": "NaqiuduHwfDY",
        "colab_type": "code",
        "colab": {
          "base_uri": "https://localhost:8080/",
          "height": 364
        },
        "outputId": "087b470b-cb0d-4f78-d968-3b50cb7b1aa4"
      },
      "source": [
        "solve()"
      ],
      "execution_count": 11,
      "outputs": [
        {
          "output_type": "stream",
          "text": [
            "[[5 3 4 6 7 8 1 9 2]\n",
            " [6 7 2 1 9 5 3 4 8]\n",
            " [1 9 8 3 4 2 5 6 7]\n",
            " [8 5 9 7 6 1 4 2 3]\n",
            " [4 2 6 8 5 3 9 7 1]\n",
            " [7 1 3 9 2 4 8 5 6]\n",
            " [9 6 1 5 3 7 2 8 4]\n",
            " [2 8 7 4 1 9 6 3 5]\n",
            " [3 4 5 2 8 6 7 1 9]]\n",
            "More?\n",
            "[[5 3 4 6 7 8 9 1 2]\n",
            " [6 7 2 1 9 5 3 4 8]\n",
            " [1 9 8 3 4 2 5 6 7]\n",
            " [8 5 9 7 6 1 4 2 3]\n",
            " [4 2 6 8 5 3 7 9 1]\n",
            " [7 1 3 9 2 4 8 5 6]\n",
            " [9 6 1 5 3 7 2 8 4]\n",
            " [2 8 7 4 1 9 6 3 5]\n",
            " [3 4 5 2 8 6 1 7 9]]\n",
            "More?\n"
          ],
          "name": "stdout"
        }
      ]
    },
    {
      "cell_type": "code",
      "metadata": {
        "id": "EkoPaCtzwfiP",
        "colab_type": "code",
        "colab": {}
      },
      "source": [
        ""
      ],
      "execution_count": 0,
      "outputs": []
    }
  ]
}